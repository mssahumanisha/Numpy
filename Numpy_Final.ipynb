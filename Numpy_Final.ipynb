{
  "nbformat": 4,
  "nbformat_minor": 0,
  "metadata": {
    "colab": {
      "name": "Numpy Final.ipynb",
      "provenance": [],
      "collapsed_sections": [],
      "include_colab_link": true
    },
    "kernelspec": {
      "display_name": "Python 3",
      "language": "python",
      "name": "python3"
    },
    "language_info": {
      "codemirror_mode": {
        "name": "ipython",
        "version": 3
      },
      "file_extension": ".py",
      "mimetype": "text/x-python",
      "name": "python",
      "nbconvert_exporter": "python",
      "pygments_lexer": "ipython3",
      "version": "3.9.1"
    }
  },
  "cells": [
    {
      "cell_type": "markdown",
      "metadata": {
        "id": "view-in-github",
        "colab_type": "text"
      },
      "source": [
        "<a href=\"https://colab.research.google.com/github/mssahumanisha/Numpy/blob/main/Numpy_Final.ipynb\" target=\"_parent\"><img src=\"https://colab.research.google.com/assets/colab-badge.svg\" alt=\"Open In Colab\"/></a>"
      ]
    },
    {
      "cell_type": "markdown",
      "metadata": {
        "id": "EaDsv-sSfPkx"
      },
      "source": [
        "# NUMPY\n",
        "- Author : Varun Anand Patkar\n",
        "- Created On : 14 Nov 2020\n",
        "\n",
        "**<a href = \"https://colab.research.google.com/drive/1lt1w-wB7gAAROdnw-UZ7qGX_Gw0XAhdu?usp=sharing\">Collab Notebook Link</a>**\n",
        "\n",
        "<h2>Why use Numpy instead of Lists??</h2>\n",
        "<table>\n",
        "    <tr>\n",
        "        <th><center><h1>Lists</h1></center></th>\n",
        "        <th><center><h1>Numpy</h1></center></th>\n",
        "    </tr>\n",
        "    <tr>\n",
        "        <th><img src=\"https://drive.google.com/uc?id=1DTGTiTJgYyYHAxBr8gZgEOna6T9l85tt\" alt=\"Slow image\"></th>\n",
        "        <th><img src=\"https://drive.google.com/uc?id=1v17tiIl2kg5gD85o371uLudMFe6wdtNS\" alt=\"Fast image\"></th>\n",
        "    </tr>\n",
        "</table>\n",
        "<br><br>\n",
        "\n",
        "## So why are Lists slow and Numpy fast?\n",
        "- **Numpy uses fixed types**: Each element in an array in numpy is only represented by default by a 32 bit size value(You can make it less). Whereas lists have to store 4 values for each element in a list. Object value(different for each type), Object Type(type of element), Reference Count(No of times it is referenced) and size of the element. This makes it faster to access and put data into numpy than for lists\n",
        "\n",
        "- **No typechecking when iterating through objects**: When we are iterating through a Numpy array, you don't have to do type checking for each element as all are the same type. But in lists you have to check type of each element.\n",
        "\n",
        "- **Numpy uses contiguous memory**: Lists don't use contiguous memory whereas Numpy uses contiguous memory like arrays in C. So accessing each element is faster in Numpy as you can just go one step forward. Whereas in Lists you have to map each element to it's memory and then access each memory location.(There are also further benefits like being able to use SIMD Vector Processing elements in the CPU but they are not in the scope of today's workshop).\n",
        "\n",
        "- **Numpy allows usage of Broadcasting**: Numpy allows use of broadcasting which means that we can do operations with incompatible array sizes. We will get back to this later as this is an important aspect of numpy.\n",
        "\n",
        "- **Numpy allows element wise operations**: Numpy allows us to do element by element operations whereas lists give errors. Ex: [1,2,3]+[4,5,6] gives error in lists but gives [5,7,9] in Numpy. This is also an important aspect of Numpy.\n",
        "\n",
        "- **Numpy supports vectorization**: Numpy allows us to use vectorization which significantly boost the performance of arrays. We'll take a look at this later.\n",
        "\n",
        "**Now, What do I mean by multidimensional data?. It's multiple data arranged in orderly manner. A good analogy is Cupboard. Multiple rows and columns that you can take and save data from and to. This is for 2 dimensional. 3 dimensional is a library. And so on.**\n",
        "\n",
        "2D array<br>\n",
        "<img src=\"https://drive.google.com/uc?id=1gOc9hY8F_Dvzc8J2YRBPj-XJqzRhZwO8\" height=350 width=350></img>"
      ]
    },
    {
      "cell_type": "code",
      "metadata": {
        "id": "6a9O0adKYzFx"
      },
      "source": [
        "import numpy as np"
      ],
      "execution_count": null,
      "outputs": []
    },
    {
      "cell_type": "markdown",
      "metadata": {
        "id": "7gOX_6nb1WmF"
      },
      "source": [
        "Before anything else let's take a look at the efficiency of numpy arrays over python lists\n",
        "\n",
        "First let's look at the time gained"
      ]
    },
    {
      "cell_type": "code",
      "metadata": {
        "id": "k7CLuhsVYzF1",
        "colab": {
          "base_uri": "https://localhost:8080/"
        },
        "outputId": "7d7ecc7f-9ae6-4857-f244-3b17cad75e8a"
      },
      "source": [
        "import time \n",
        "\n",
        "n = 10000000 #10 million/1 Crore\n",
        "l1 = list(range(n)) #2 python lists\n",
        "l2 = list(range(n)) \n",
        "arr1 = np.arange(n) #2 numpy 1D arrays with same values as l1 and l2\n",
        "arr2 = np.arange(n) \n",
        "\n",
        "#Calculate time for Lists\n",
        "tic = time.time() \n",
        "\n",
        "sqlist = [(i*j) for i,j in zip(l1, l2)] \n",
        "\n",
        "print(\"Time taken by Lists to perform multiplication:\",(time.time()-tic),\"seconds\") \n",
        "\n",
        "#Calculate time for numpy arrays   \n",
        "tic = time.time() \n",
        "\n",
        "sqarray = arr1 * arr2 \n",
        " \n",
        "print(\"Time taken by NumPy Arrays to perform multiplication:\",(time.time()-tic),\"seconds\")\n",
        "print(\"Is sqlist==sqarray? :\",np.array_equal(l1,arr1))"
      ],
      "execution_count": null,
      "outputs": [
        {
          "output_type": "stream",
          "text": [
            "Time taken by Lists to perform multiplication: 0.8422985076904297 seconds\n",
            "Time taken by NumPy Arrays to perform multiplication: 0.029114484786987305 seconds\n",
            "Is sqlist==sqarray? : True\n"
          ],
          "name": "stdout"
        }
      ]
    },
    {
      "cell_type": "markdown",
      "metadata": {
        "id": "aSaQx_RVNlYz"
      },
      "source": [
        "**Results may vary by your hardware specs**\n",
        "\n",
        "Now let's take a look at the space taken side of things"
      ]
    },
    {
      "cell_type": "code",
      "metadata": {
        "id": "9-sJi7KCYzF5",
        "colab": {
          "base_uri": "https://localhost:8080/"
        },
        "outputId": "4c618b10-ebc9-475d-ffc6-83ef174e5a0c"
      },
      "source": [
        "import sys \n",
        "\n",
        "S=list(range(1000)) \n",
        "\n",
        "print(\"Size of each element of list in bytes: \",sys.getsizeof(S)) \n",
        "\n",
        "print(\"Size of the whole list in bytes: \",sys.getsizeof(S)*len(S)) \n",
        "\n",
        "D= np.arange(1000) \n",
        "\n",
        "print(\"Size of each element of the Numpy array in bytes: \",D.itemsize) \n",
        "\n",
        "print(\"Size of the whole Numpy array in bytes: \",D.size*D.itemsize) "
      ],
      "execution_count": null,
      "outputs": [
        {
          "output_type": "stream",
          "text": [
            "Size of each element of list in bytes:  9112\n",
            "Size of the whole list in bytes:  9112000\n",
            "Size of each element of the Numpy array in bytes:  8\n",
            "Size of the whole Numpy array in bytes:  8000\n"
          ],
          "name": "stdout"
        }
      ]
    },
    {
      "cell_type": "markdown",
      "metadata": {
        "id": "ZUjgeUEpYzF7"
      },
      "source": [
        "## Basics\n",
        "\n",
        "- Defining arrays\n",
        "- Array Functions"
      ]
    },
    {
      "cell_type": "code",
      "metadata": {
        "id": "tx0g_QsDYzF8",
        "colab": {
          "base_uri": "https://localhost:8080/"
        },
        "outputId": "856eb5ec-167e-4eb7-a1fc-8aa068b31fe8"
      },
      "source": [
        "a=np.array([1,2,3])\n",
        "a # it can be seen that the type of numpy arrays is array"
      ],
      "execution_count": null,
      "outputs": [
        {
          "output_type": "execute_result",
          "data": {
            "text/plain": [
              "array([1, 2, 3])"
            ]
          },
          "metadata": {
            "tags": []
          },
          "execution_count": 4
        }
      ]
    },
    {
      "cell_type": "code",
      "metadata": {
        "id": "2x58aIBGYzGB",
        "colab": {
          "base_uri": "https://localhost:8080/"
        },
        "outputId": "080a0dc1-a985-449a-9941-c848f12b5c2d"
      },
      "source": [
        "b=np.array([[1.0,2.0,3.0],[4.0,5.0,6.0],[7.0,8.0,9.0]]) # a complex 2D array of floats. Numpy represents 2.0 as 2.\n",
        "b"
      ],
      "execution_count": null,
      "outputs": [
        {
          "output_type": "execute_result",
          "data": {
            "text/plain": [
              "array([[1., 2., 3.],\n",
              "       [4., 5., 6.],\n",
              "       [7., 8., 9.]])"
            ]
          },
          "metadata": {
            "tags": []
          },
          "execution_count": 5
        }
      ]
    },
    {
      "cell_type": "markdown",
      "metadata": {
        "id": "_NZQ1SOz1WmH"
      },
      "source": [
        "Now let's take a look at some functions of the arrays to find the no. of dimensions, shape of the array, etc."
      ]
    },
    {
      "cell_type": "code",
      "metadata": {
        "id": "_ZfrUWocYzGF",
        "colab": {
          "base_uri": "https://localhost:8080/"
        },
        "outputId": "c601940b-5407-46cc-df38-25616c991756"
      },
      "source": [
        "print(\"No. of Dims in a : \"+str(a.ndim)+\"\\nNo. of Dims in b : \"+str(b.ndim))"
      ],
      "execution_count": null,
      "outputs": [
        {
          "output_type": "stream",
          "text": [
            "No. of Dims in a : 1\n",
            "No. of Dims in b : 2\n"
          ],
          "name": "stdout"
        }
      ]
    },
    {
      "cell_type": "code",
      "metadata": {
        "id": "BWB6BD56YzGH",
        "colab": {
          "base_uri": "https://localhost:8080/"
        },
        "outputId": "9a62bbaf-b244-4491-8947-f446c5682905"
      },
      "source": [
        "print(\"Shape of a : \"+str(a.shape)+\"\\nShape of b\"+str(b.shape))"
      ],
      "execution_count": null,
      "outputs": [
        {
          "output_type": "stream",
          "text": [
            "Shape of a : (3,)\n",
            "Shape of b(3, 3)\n"
          ],
          "name": "stdout"
        }
      ]
    },
    {
      "cell_type": "markdown",
      "metadata": {
        "id": "mECNELZcYzGK"
      },
      "source": [
        "**Now I would like to point something out here.** Look at the shape of a. It gives (3,). This means that a is a vector. This is dangerous as it can cause errors in your code. So don't use these types of arrays. Instead use (3,1) arrays which is a column array.\n",
        "\n",
        "Now consider you have this array and you take it's transpose. It gives a (1,3) array in your mind but it gives a (,3) array. Now you try to use matrix multiplication. Now by the rules, a (3,1) array mult by (1,3) will give a (3,3) array. Watch what happens with this one."
      ]
    },
    {
      "cell_type": "code",
      "metadata": {
        "id": "lIeoBu5iYzGL",
        "colab": {
          "base_uri": "https://localhost:8080/"
        },
        "outputId": "3e04846a-0695-4f8c-ed66-3436e57e555b"
      },
      "source": [
        "c=a.T #taking a transpose\n",
        "c.shape"
      ],
      "execution_count": null,
      "outputs": [
        {
          "output_type": "execute_result",
          "data": {
            "text/plain": [
              "(3,)"
            ]
          },
          "metadata": {
            "tags": []
          },
          "execution_count": 8
        }
      ]
    },
    {
      "cell_type": "code",
      "metadata": {
        "id": "4fufnNSWYzGN",
        "colab": {
          "base_uri": "https://localhost:8080/"
        },
        "outputId": "91a4e9ae-4ad1-482d-b5b6-2c6a3e3cc142"
      },
      "source": [
        "np.dot(a,c)#taking matrix multiplication"
      ],
      "execution_count": null,
      "outputs": [
        {
          "output_type": "execute_result",
          "data": {
            "text/plain": [
              "14"
            ]
          },
          "metadata": {
            "tags": []
          },
          "execution_count": 9
        }
      ]
    },
    {
      "cell_type": "markdown",
      "metadata": {
        "id": "0LkM0u1lYzGP"
      },
      "source": [
        "It gives a number. Instead let's redefine a and try this again"
      ]
    },
    {
      "cell_type": "code",
      "metadata": {
        "id": "1QZ-mx9BYzGQ",
        "colab": {
          "base_uri": "https://localhost:8080/"
        },
        "outputId": "7a5989bb-a2f4-4612-ece9-80cbb57a3330"
      },
      "source": [
        "a=np.array([[1],[2],[3]])\n",
        "a.shape"
      ],
      "execution_count": null,
      "outputs": [
        {
          "output_type": "execute_result",
          "data": {
            "text/plain": [
              "(3, 1)"
            ]
          },
          "metadata": {
            "tags": []
          },
          "execution_count": 10
        }
      ]
    },
    {
      "cell_type": "markdown",
      "metadata": {
        "id": "N-wSFCg61WmI"
      },
      "source": [
        "Now lets apply the same operations:"
      ]
    },
    {
      "cell_type": "code",
      "metadata": {
        "id": "bb_sIAeRYzGT",
        "colab": {
          "base_uri": "https://localhost:8080/"
        },
        "outputId": "98abbb8b-1c84-41bd-e0b6-6fceb5b8027a"
      },
      "source": [
        "c=a.T\n",
        "c.shape"
      ],
      "execution_count": null,
      "outputs": [
        {
          "output_type": "execute_result",
          "data": {
            "text/plain": [
              "(1, 3)"
            ]
          },
          "metadata": {
            "tags": []
          },
          "execution_count": 11
        }
      ]
    },
    {
      "cell_type": "code",
      "metadata": {
        "id": "a85iPTHIYzGV",
        "colab": {
          "base_uri": "https://localhost:8080/"
        },
        "outputId": "edbb0618-f08e-4a9b-d3fc-716a3e8d28b3"
      },
      "source": [
        "np.dot(a,c)"
      ],
      "execution_count": null,
      "outputs": [
        {
          "output_type": "execute_result",
          "data": {
            "text/plain": [
              "array([[1, 2, 3],\n",
              "       [2, 4, 6],\n",
              "       [3, 6, 9]])"
            ]
          },
          "metadata": {
            "tags": []
          },
          "execution_count": 12
        }
      ]
    },
    {
      "cell_type": "markdown",
      "metadata": {
        "id": "PzMXpZzqYzGY"
      },
      "source": [
        "Hence even later when using the random library of numpy, **don't use vectors. Instead use column arrays.**\n",
        "\n",
        "Now let's get back to it. To find the data type of an array:"
      ]
    },
    {
      "cell_type": "code",
      "metadata": {
        "id": "nlulZoTkYzGY",
        "colab": {
          "base_uri": "https://localhost:8080/"
        },
        "outputId": "48ac50e0-1860-492f-9c66-8aabe23173df"
      },
      "source": [
        "print(\"Data Type of a : \"+str(a.dtype)+\"\\nData Type of b : \"+str(b.dtype))"
      ],
      "execution_count": null,
      "outputs": [
        {
          "output_type": "stream",
          "text": [
            "Data Type of a : int64\n",
            "Data Type of b : float64\n"
          ],
          "name": "stdout"
        }
      ]
    },
    {
      "cell_type": "markdown",
      "metadata": {
        "id": "arTqVSaF1WmJ"
      },
      "source": [
        "You can also change the type when defining the array.\n",
        "Ex:"
      ]
    },
    {
      "cell_type": "code",
      "metadata": {
        "id": "CCcHwZQdYzGb",
        "colab": {
          "base_uri": "https://localhost:8080/"
        },
        "outputId": "498e83b8-8dd3-42f1-c154-919275efd49d"
      },
      "source": [
        "a=np.array([[1],[2],[3]],dtype='int8')\n",
        "a.dtype\n",
        "#float8 does not exist. only int8,int16,int64,float16,float64"
      ],
      "execution_count": null,
      "outputs": [
        {
          "output_type": "execute_result",
          "data": {
            "text/plain": [
              "dtype('int8')"
            ]
          },
          "metadata": {
            "tags": []
          },
          "execution_count": 21
        }
      ]
    },
    {
      "cell_type": "code",
      "metadata": {
        "id": "EF9enr1DYzGe",
        "colab": {
          "base_uri": "https://localhost:8080/"
        },
        "outputId": "5a0eb863-f5c3-4929-9196-1707dc3013ad"
      },
      "source": [
        "# Ex 1\n",
        "# Try to define ans1 as int8 value with the same values in it [[1],[2],[3]]\n",
        "ans1=0\n",
        "#ADD YOUR CODE HERE\n",
        "ans1=np.array([[1],[2],[3]],dtype=\"int8\")\n",
        "#END CODE HERE\n",
        "!pip install gdown\n",
        "!gdown https://drive.google.com/uc?id=1poiO99Ebtz0OHQd4qxKa7tNBj7aiPDRo\n",
        "import grader_numpy as g\n",
        "print(\"\\n\\n\")\n",
        "g.grader1(ans1)"
      ],
      "execution_count": null,
      "outputs": [
        {
          "output_type": "stream",
          "text": [
            "Requirement already satisfied: gdown in /usr/local/lib/python3.6/dist-packages (3.6.4)\n",
            "Requirement already satisfied: tqdm in /usr/local/lib/python3.6/dist-packages (from gdown) (4.41.1)\n",
            "Requirement already satisfied: six in /usr/local/lib/python3.6/dist-packages (from gdown) (1.15.0)\n",
            "Requirement already satisfied: requests in /usr/local/lib/python3.6/dist-packages (from gdown) (2.23.0)\n",
            "Requirement already satisfied: urllib3!=1.25.0,!=1.25.1,<1.26,>=1.21.1 in /usr/local/lib/python3.6/dist-packages (from requests->gdown) (1.24.3)\n",
            "Requirement already satisfied: certifi>=2017.4.17 in /usr/local/lib/python3.6/dist-packages (from requests->gdown) (2020.12.5)\n",
            "Requirement already satisfied: idna<3,>=2.5 in /usr/local/lib/python3.6/dist-packages (from requests->gdown) (2.10)\n",
            "Requirement already satisfied: chardet<4,>=3.0.2 in /usr/local/lib/python3.6/dist-packages (from requests->gdown) (3.0.4)\n",
            "Downloading...\n",
            "From: https://drive.google.com/uc?id=1poiO99Ebtz0OHQd4qxKa7tNBj7aiPDRo\n",
            "To: /content/grader_numpy.py\n",
            "100% 1.28k/1.28k [00:00<00:00, 4.47MB/s]\n",
            "\n",
            "\n",
            "\n",
            "Correct Answer!!! Put \"Got It\" in the chatbox.\n"
          ],
          "name": "stdout"
        }
      ]
    },
    {
      "cell_type": "markdown",
      "metadata": {
        "id": "FLKQAQ7X1WmK"
      },
      "source": [
        "We can also find the size of each item in the array(in bytes)"
      ]
    },
    {
      "cell_type": "code",
      "metadata": {
        "id": "Av0JpquyYzGg",
        "colab": {
          "base_uri": "https://localhost:8080/"
        },
        "outputId": "a1240daa-d07a-4064-fd21-9ff96320c45b"
      },
      "source": [
        "a.itemsize#8 bits from \"int8\" is 1 byte"
      ],
      "execution_count": null,
      "outputs": [
        {
          "output_type": "execute_result",
          "data": {
            "text/plain": [
              "1"
            ]
          },
          "metadata": {
            "tags": []
          },
          "execution_count": 23
        }
      ]
    },
    {
      "cell_type": "code",
      "metadata": {
        "id": "I02DFBarYzGj",
        "colab": {
          "base_uri": "https://localhost:8080/"
        },
        "outputId": "bbd7e16e-0a65-48c2-cd14-8256e4cdd07d"
      },
      "source": [
        "b.itemsize#float 64 bits is 8 bytes as 64/8 is 8"
      ],
      "execution_count": null,
      "outputs": [
        {
          "output_type": "execute_result",
          "data": {
            "text/plain": [
              "8"
            ]
          },
          "metadata": {
            "tags": []
          },
          "execution_count": 24
        }
      ]
    },
    {
      "cell_type": "code",
      "metadata": {
        "id": "frDwqADgYzGm",
        "colab": {
          "base_uri": "https://localhost:8080/"
        },
        "outputId": "18877f87-7f30-4e61-83ae-1499cc2fc5cf"
      },
      "source": [
        "#Ex 2\n",
        "#Find total size of a using a single property and store it in ans1 and find total size by multiplying length of a*size of each element and save that in ans2\n",
        "#Use Google to find what property for all 3 operations\n",
        "ans1=ans2=0\n",
        "#ADD YOUR CODE HERE\n",
        "ans1=a.nbytes\n",
        "ans2=a.size*a.itemsize\n",
        "print(ans1,\"     \",ans2)\n",
        "#END CODE HERE\n",
        "!pip install gdown\n",
        "!gdown https://drive.google.com/uc?id=1poiO99Ebtz0OHQd4qxKa7tNBj7aiPDRo\n",
        "import grader_numpy as g\n",
        "print(\"\\n\\n\")\n",
        "g.grader2(ans1,ans2)"
      ],
      "execution_count": null,
      "outputs": [
        {
          "output_type": "stream",
          "text": [
            "3       3\n",
            "Requirement already satisfied: gdown in /usr/local/lib/python3.6/dist-packages (3.6.4)\n",
            "Requirement already satisfied: tqdm in /usr/local/lib/python3.6/dist-packages (from gdown) (4.41.1)\n",
            "Requirement already satisfied: six in /usr/local/lib/python3.6/dist-packages (from gdown) (1.15.0)\n",
            "Requirement already satisfied: requests in /usr/local/lib/python3.6/dist-packages (from gdown) (2.23.0)\n",
            "Requirement already satisfied: chardet<4,>=3.0.2 in /usr/local/lib/python3.6/dist-packages (from requests->gdown) (3.0.4)\n",
            "Requirement already satisfied: idna<3,>=2.5 in /usr/local/lib/python3.6/dist-packages (from requests->gdown) (2.10)\n",
            "Requirement already satisfied: certifi>=2017.4.17 in /usr/local/lib/python3.6/dist-packages (from requests->gdown) (2020.12.5)\n",
            "Requirement already satisfied: urllib3!=1.25.0,!=1.25.1,<1.26,>=1.21.1 in /usr/local/lib/python3.6/dist-packages (from requests->gdown) (1.24.3)\n",
            "Downloading...\n",
            "From: https://drive.google.com/uc?id=1poiO99Ebtz0OHQd4qxKa7tNBj7aiPDRo\n",
            "To: /content/grader_numpy.py\n",
            "100% 1.28k/1.28k [00:00<00:00, 1.75MB/s]\n",
            "\n",
            "\n",
            "\n",
            "Correct Answer!!! Put \"Got It\" in the chatbox.\n"
          ],
          "name": "stdout"
        }
      ]
    },
    {
      "cell_type": "markdown",
      "metadata": {
        "id": "HdEuq6VLYzGo"
      },
      "source": [
        "## Accesing/Changing some elements in rows, columns\n",
        "Now let's see how we access elements, rows, colums etc."
      ]
    },
    {
      "cell_type": "code",
      "metadata": {
        "id": "pii4cbcPYzGo",
        "colab": {
          "base_uri": "https://localhost:8080/"
        },
        "outputId": "d0f31ea8-ea05-4a39-ff4c-43dcf7f261c0"
      },
      "source": [
        "d=np.array([[1,2,3,4,5,6,7],[8,9,10,11,12,13,14]])\n",
        "d.shape"
      ],
      "execution_count": null,
      "outputs": [
        {
          "output_type": "execute_result",
          "data": {
            "text/plain": [
              "(2, 7)"
            ]
          },
          "metadata": {
            "tags": []
          },
          "execution_count": 28
        }
      ]
    },
    {
      "cell_type": "code",
      "metadata": {
        "id": "SOgcmODAYzGt",
        "colab": {
          "base_uri": "https://localhost:8080/"
        },
        "outputId": "f3ee99ee-be72-4b09-d2a3-2cc9e08c5b81"
      },
      "source": [
        "d[1,5]#you can access elements by using d[i,j,k,...] just like normal arrays"
      ],
      "execution_count": null,
      "outputs": [
        {
          "output_type": "execute_result",
          "data": {
            "text/plain": [
              "13"
            ]
          },
          "metadata": {
            "tags": []
          },
          "execution_count": 29
        }
      ]
    },
    {
      "cell_type": "code",
      "metadata": {
        "id": "l2SAMsBTYzGv",
        "colab": {
          "base_uri": "https://localhost:8080/"
        },
        "outputId": "eda3bbee-14a2-4f28-e67a-ff158bd68e53"
      },
      "source": [
        "d[1,:]#you can access a row by setting the y dim as all(:)"
      ],
      "execution_count": null,
      "outputs": [
        {
          "output_type": "execute_result",
          "data": {
            "text/plain": [
              "array([ 8,  9, 10, 11, 12, 13, 14])"
            ]
          },
          "metadata": {
            "tags": []
          },
          "execution_count": 30
        }
      ]
    },
    {
      "cell_type": "code",
      "metadata": {
        "id": "pk__ywcvYzGx",
        "colab": {
          "base_uri": "https://localhost:8080/"
        },
        "outputId": "eb56065c-d162-494f-af94-c98c4579bcb0"
      },
      "source": [
        "d[:,2]#access a column by setting x as all(:)"
      ],
      "execution_count": null,
      "outputs": [
        {
          "output_type": "execute_result",
          "data": {
            "text/plain": [
              "array([ 3, 10])"
            ]
          },
          "metadata": {
            "tags": []
          },
          "execution_count": 31
        }
      ]
    },
    {
      "cell_type": "code",
      "metadata": {
        "id": "wIluQ0xIYzGz",
        "colab": {
          "base_uri": "https://localhost:8080/"
        },
        "outputId": "86fa62d2-8532-45ec-fe8a-c29d7104cf5c"
      },
      "source": [
        "d[1,-2]#we can also use negative indices to reference from the back"
      ],
      "execution_count": null,
      "outputs": [
        {
          "output_type": "execute_result",
          "data": {
            "text/plain": [
              "13"
            ]
          },
          "metadata": {
            "tags": []
          },
          "execution_count": 32
        }
      ]
    },
    {
      "cell_type": "markdown",
      "metadata": {
        "id": "8883a60E1WmL"
      },
      "source": [
        "You can also cut slices by using start index and end index. Remember that the end index is not inclusive\n",
        "\n",
        "We can use the array_equal function in numpy to check if both are equal or not"
      ]
    },
    {
      "cell_type": "code",
      "metadata": {
        "id": "myySNrY6YzG3",
        "colab": {
          "base_uri": "https://localhost:8080/"
        },
        "outputId": "dab3098f-75f0-4a2a-8c4e-4b044704a3fb"
      },
      "source": [
        "#Ex 3\n",
        "#Extract [9,10,11,12] from d and put that in ans1\n",
        "d=np.array([[1,2,3,4,5,6,7],[8,9,10,11,12,13,14]])\n",
        "ans1=0\n",
        "#ADD CODE HERE\n",
        "ans1=d[1,-6:-2]\n",
        "#END CODE HERE\n",
        "!pip install gdown\n",
        "!gdown https://drive.google.com/uc?id=1poiO99Ebtz0OHQd4qxKa7tNBj7aiPDRo\n",
        "import grader_numpy as g\n",
        "print(\"\\n\\n\")\n",
        "g.grader3(ans1)"
      ],
      "execution_count": null,
      "outputs": [
        {
          "output_type": "stream",
          "text": [
            "Requirement already satisfied: gdown in /usr/local/lib/python3.6/dist-packages (3.6.4)\n",
            "Requirement already satisfied: requests in /usr/local/lib/python3.6/dist-packages (from gdown) (2.23.0)\n",
            "Requirement already satisfied: six in /usr/local/lib/python3.6/dist-packages (from gdown) (1.15.0)\n",
            "Requirement already satisfied: tqdm in /usr/local/lib/python3.6/dist-packages (from gdown) (4.41.1)\n",
            "Requirement already satisfied: idna<3,>=2.5 in /usr/local/lib/python3.6/dist-packages (from requests->gdown) (2.10)\n",
            "Requirement already satisfied: chardet<4,>=3.0.2 in /usr/local/lib/python3.6/dist-packages (from requests->gdown) (3.0.4)\n",
            "Requirement already satisfied: urllib3!=1.25.0,!=1.25.1,<1.26,>=1.21.1 in /usr/local/lib/python3.6/dist-packages (from requests->gdown) (1.24.3)\n",
            "Requirement already satisfied: certifi>=2017.4.17 in /usr/local/lib/python3.6/dist-packages (from requests->gdown) (2020.12.5)\n",
            "Downloading...\n",
            "From: https://drive.google.com/uc?id=1poiO99Ebtz0OHQd4qxKa7tNBj7aiPDRo\n",
            "To: /content/grader_numpy.py\n",
            "100% 1.28k/1.28k [00:00<00:00, 2.14MB/s]\n",
            "\n",
            "\n",
            "\n",
            "Correct Answer!!! Put \"Got It\" in the chatbox.\n"
          ],
          "name": "stdout"
        }
      ]
    },
    {
      "cell_type": "markdown",
      "metadata": {
        "id": "hk5f-w6Y1WmL"
      },
      "source": [
        "Also you can change the step size between the nos."
      ]
    },
    {
      "cell_type": "code",
      "metadata": {
        "id": "L_VZrCTiYzG_",
        "colab": {
          "base_uri": "https://localhost:8080/"
        },
        "outputId": "6b45de11-3727-467d-a4db-22f411ac3f68"
      },
      "source": [
        "d[1,1:-1:2]"
      ],
      "execution_count": null,
      "outputs": [
        {
          "output_type": "execute_result",
          "data": {
            "text/plain": [
              "array([ 9, 11, 13])"
            ]
          },
          "metadata": {
            "tags": []
          },
          "execution_count": 35
        }
      ]
    },
    {
      "cell_type": "markdown",
      "metadata": {
        "id": "-cCST9Yf1WmM"
      },
      "source": [
        "Also we can assign nos., rown and colums using this"
      ]
    },
    {
      "cell_type": "code",
      "metadata": {
        "id": "95HWpQc3YzHB",
        "colab": {
          "base_uri": "https://localhost:8080/"
        },
        "outputId": "7ef0b889-d561-43c5-e5ca-b419a305725e"
      },
      "source": [
        "d[1,:]=[9, 10, 11, 12, 13, 14,15]\n",
        "d"
      ],
      "execution_count": null,
      "outputs": [
        {
          "output_type": "execute_result",
          "data": {
            "text/plain": [
              "array([[ 1,  2,  3,  4,  5,  6,  7],\n",
              "       [ 9, 10, 11, 12, 13, 14, 15]])"
            ]
          },
          "metadata": {
            "tags": []
          },
          "execution_count": 36
        }
      ]
    },
    {
      "cell_type": "markdown",
      "metadata": {
        "id": "wTkneZuOYzHD"
      },
      "source": [
        "Let's try with a 3d array"
      ]
    },
    {
      "cell_type": "code",
      "metadata": {
        "id": "Ho5dtmmEYzHD",
        "colab": {
          "base_uri": "https://localhost:8080/"
        },
        "outputId": "8a1b5923-9106-40f0-82ba-2868008dcc31"
      },
      "source": [
        "b=np.array([[[1,2],[3,4]],[[5,6],[7,8]]])\n",
        "b"
      ],
      "execution_count": null,
      "outputs": [
        {
          "output_type": "execute_result",
          "data": {
            "text/plain": [
              "array([[[1, 2],\n",
              "        [3, 4]],\n",
              "\n",
              "       [[5, 6],\n",
              "        [7, 8]]])"
            ]
          },
          "metadata": {
            "tags": []
          },
          "execution_count": 37
        }
      ]
    },
    {
      "cell_type": "code",
      "metadata": {
        "id": "2ckFZTSOYzHF",
        "colab": {
          "base_uri": "https://localhost:8080/"
        },
        "outputId": "9ef147c7-f14d-4fe8-b03d-c5d450d0f0bc"
      },
      "source": [
        "b[1]"
      ],
      "execution_count": null,
      "outputs": [
        {
          "output_type": "execute_result",
          "data": {
            "text/plain": [
              "array([[5, 6],\n",
              "       [7, 8]])"
            ]
          },
          "metadata": {
            "tags": []
          },
          "execution_count": 38
        }
      ]
    },
    {
      "cell_type": "code",
      "metadata": {
        "id": "KRcY-goXYzHH",
        "colab": {
          "base_uri": "https://localhost:8080/"
        },
        "outputId": "7430b19c-e8fb-4f3d-f4ca-275ff5d5ab95"
      },
      "source": [
        "b[1][0]"
      ],
      "execution_count": null,
      "outputs": [
        {
          "output_type": "execute_result",
          "data": {
            "text/plain": [
              "array([5, 6])"
            ]
          },
          "metadata": {
            "tags": []
          },
          "execution_count": 39
        }
      ]
    },
    {
      "cell_type": "code",
      "metadata": {
        "id": "qfaZMOq4YzHI",
        "colab": {
          "base_uri": "https://localhost:8080/"
        },
        "outputId": "940bcfac-20ce-4b8b-8d06-d0aedbf234e8"
      },
      "source": [
        "b[1,0,1]"
      ],
      "execution_count": null,
      "outputs": [
        {
          "output_type": "execute_result",
          "data": {
            "text/plain": [
              "6"
            ]
          },
          "metadata": {
            "tags": []
          },
          "execution_count": 40
        }
      ]
    },
    {
      "cell_type": "code",
      "metadata": {
        "id": "RNBb2kGpYzHK",
        "colab": {
          "base_uri": "https://localhost:8080/"
        },
        "outputId": "b9fcb46a-c3b9-4c37-e794-4e44e962ea25"
      },
      "source": [
        "b[1]=[[9,10],[11,12]]\n",
        "b"
      ],
      "execution_count": null,
      "outputs": [
        {
          "output_type": "execute_result",
          "data": {
            "text/plain": [
              "array([[[ 1,  2],\n",
              "        [ 3,  4]],\n",
              "\n",
              "       [[ 9, 10],\n",
              "        [11, 12]]])"
            ]
          },
          "metadata": {
            "tags": []
          },
          "execution_count": 41
        }
      ]
    },
    {
      "cell_type": "markdown",
      "metadata": {
        "id": "scqxjaHtYzHM"
      },
      "source": [
        "## Different Types of Inbuilt Arrays\n",
        "\n",
        "Numpy allows us to be able to define some common arrays used like the all zeros, all ones, etc. array. Let's take a look at some of them.\n",
        "\n",
        "As i said earlier,dont pass values like 3 in the shape fo these arrays as that will mess up your code.\n",
        "\n",
        "First let's look at the zeros function in numpy"
      ]
    },
    {
      "cell_type": "code",
      "metadata": {
        "id": "d-ExW5nWYzHM",
        "colab": {
          "base_uri": "https://localhost:8080/"
        },
        "outputId": "3ffa1cda-84aa-450d-f995-2f85c5e11d90"
      },
      "source": [
        "a=np.zeros(5) #Don't do this as it becomes a vector and we have discussed this earlier\n",
        "a.shape"
      ],
      "execution_count": null,
      "outputs": [
        {
          "output_type": "execute_result",
          "data": {
            "text/plain": [
              "(5,)"
            ]
          },
          "metadata": {
            "tags": []
          },
          "execution_count": 42
        }
      ]
    },
    {
      "cell_type": "code",
      "metadata": {
        "id": "VIIpfbUyYzHO",
        "colab": {
          "base_uri": "https://localhost:8080/",
          "height": 187
        },
        "outputId": "df24cc9a-76e9-42f6-818f-7de1ffd7cece"
      },
      "source": [
        "#a=np.zeros(5,1) #also dont do this. as this will give an error. We pass a tuple that is the shape \n",
        "#                   into the function so there will be 2 paranthesis"
      ],
      "execution_count": null,
      "outputs": [
        {
          "output_type": "error",
          "ename": "TypeError",
          "evalue": "ignored",
          "traceback": [
            "\u001b[0;31m---------------------------------------------------------------------------\u001b[0m",
            "\u001b[0;31mTypeError\u001b[0m                                 Traceback (most recent call last)",
            "\u001b[0;32m<ipython-input-43-e2b91e150b72>\u001b[0m in \u001b[0;36m<module>\u001b[0;34m()\u001b[0m\n\u001b[0;32m----> 1\u001b[0;31m \u001b[0ma\u001b[0m\u001b[0;34m=\u001b[0m\u001b[0mnp\u001b[0m\u001b[0;34m.\u001b[0m\u001b[0mzeros\u001b[0m\u001b[0;34m(\u001b[0m\u001b[0;36m5\u001b[0m\u001b[0;34m,\u001b[0m\u001b[0;36m1\u001b[0m\u001b[0;34m)\u001b[0m \u001b[0;31m#also dont do this. as this will give an error. We pass a tuple that is the shape\u001b[0m\u001b[0;34m\u001b[0m\u001b[0;34m\u001b[0m\u001b[0m\n\u001b[0m\u001b[1;32m      2\u001b[0m \u001b[0;31m#                   into the function so there will be 2 paranthesis\u001b[0m\u001b[0;34m\u001b[0m\u001b[0;34m\u001b[0m\u001b[0;34m\u001b[0m\u001b[0m\n",
            "\u001b[0;31mTypeError\u001b[0m: Cannot interpret '1' as a data type"
          ]
        }
      ]
    },
    {
      "cell_type": "code",
      "metadata": {
        "id": "-qNtkmj5YzHQ",
        "colab": {
          "base_uri": "https://localhost:8080/"
        },
        "outputId": "91b9eb24-a152-4ed0-c833-9b1f27b8f7a5"
      },
      "source": [
        "a=np.zeros((5,5)) #a correct example of zeros\n",
        "print(a)"
      ],
      "execution_count": null,
      "outputs": [
        {
          "output_type": "stream",
          "text": [
            "[[0. 0. 0. 0. 0.]\n",
            " [0. 0. 0. 0. 0.]\n",
            " [0. 0. 0. 0. 0.]\n",
            " [0. 0. 0. 0. 0.]\n",
            " [0. 0. 0. 0. 0.]]\n"
          ],
          "name": "stdout"
        }
      ]
    },
    {
      "cell_type": "code",
      "metadata": {
        "id": "5hyLIboeYzHS",
        "colab": {
          "base_uri": "https://localhost:8080/"
        },
        "outputId": "13f0d74a-37c9-4fb5-d022-a85dbd132b43"
      },
      "source": [
        "a=np.zeros((5,5,5),dtype=\"int8\")\n",
        "print(a)"
      ],
      "execution_count": null,
      "outputs": [
        {
          "output_type": "stream",
          "text": [
            "[[[0 0 0 0 0]\n",
            "  [0 0 0 0 0]\n",
            "  [0 0 0 0 0]\n",
            "  [0 0 0 0 0]\n",
            "  [0 0 0 0 0]]\n",
            "\n",
            " [[0 0 0 0 0]\n",
            "  [0 0 0 0 0]\n",
            "  [0 0 0 0 0]\n",
            "  [0 0 0 0 0]\n",
            "  [0 0 0 0 0]]\n",
            "\n",
            " [[0 0 0 0 0]\n",
            "  [0 0 0 0 0]\n",
            "  [0 0 0 0 0]\n",
            "  [0 0 0 0 0]\n",
            "  [0 0 0 0 0]]\n",
            "\n",
            " [[0 0 0 0 0]\n",
            "  [0 0 0 0 0]\n",
            "  [0 0 0 0 0]\n",
            "  [0 0 0 0 0]\n",
            "  [0 0 0 0 0]]\n",
            "\n",
            " [[0 0 0 0 0]\n",
            "  [0 0 0 0 0]\n",
            "  [0 0 0 0 0]\n",
            "  [0 0 0 0 0]\n",
            "  [0 0 0 0 0]]]\n"
          ],
          "name": "stdout"
        }
      ]
    },
    {
      "cell_type": "markdown",
      "metadata": {
        "id": "v0Z-TrhL1WmO"
      },
      "source": [
        "Now, let's take a look at an all 1s matrix using ones function. \n",
        "\n",
        "We can also specify datatypes in each of these like when defining"
      ]
    },
    {
      "cell_type": "code",
      "metadata": {
        "id": "c2h_zi-ZYzHU",
        "colab": {
          "base_uri": "https://localhost:8080/"
        },
        "outputId": "7f6b7f5b-3a45-44ed-98e0-5368f2718063"
      },
      "source": [
        "a=np.ones((5,5),dtype=\"int8\")\n",
        "print(a)"
      ],
      "execution_count": null,
      "outputs": [
        {
          "output_type": "stream",
          "text": [
            "[[1 1 1 1 1]\n",
            " [1 1 1 1 1]\n",
            " [1 1 1 1 1]\n",
            " [1 1 1 1 1]\n",
            " [1 1 1 1 1]]\n"
          ],
          "name": "stdout"
        }
      ]
    },
    {
      "cell_type": "markdown",
      "metadata": {
        "id": "jNaO99F01WmO"
      },
      "source": [
        "If you want any other number, there are 2 ways. You can multiply a ones array by that no. or use the np.full function"
      ]
    },
    {
      "cell_type": "code",
      "metadata": {
        "id": "x6SZKo7bYzHW",
        "colab": {
          "base_uri": "https://localhost:8080/"
        },
        "outputId": "770c6619-c630-48b4-90ea-cc0b73790b5a"
      },
      "source": [
        "a=5*np.ones((5,5))\n",
        "b=np.full((5,5),5)\n",
        "print(\"a = \"+str(a)+\"\\nb = \"+str(b))\n",
        "assert np.array_equal(a,b)"
      ],
      "execution_count": null,
      "outputs": [
        {
          "output_type": "stream",
          "text": [
            "a = [[5. 5. 5. 5. 5.]\n",
            " [5. 5. 5. 5. 5.]\n",
            " [5. 5. 5. 5. 5.]\n",
            " [5. 5. 5. 5. 5.]\n",
            " [5. 5. 5. 5. 5.]]\n",
            "b = [[5 5 5 5 5]\n",
            " [5 5 5 5 5]\n",
            " [5 5 5 5 5]\n",
            " [5 5 5 5 5]\n",
            " [5 5 5 5 5]]\n"
          ],
          "name": "stdout"
        }
      ]
    },
    {
      "cell_type": "markdown",
      "metadata": {
        "id": "uWquJNeR1WmO"
      },
      "source": [
        "There is another function named full_like which takes another array as input and assigns all nos the same value"
      ]
    },
    {
      "cell_type": "code",
      "metadata": {
        "id": "dD0yt9vdYzHY",
        "colab": {
          "base_uri": "https://localhost:8080/"
        },
        "outputId": "b7f16f73-00ce-496e-bad6-1df6d4ef9e6f"
      },
      "source": [
        "a=np.array([[1,2,3,4,5,6,7],[8,9,10,11,12,13,14]])\n",
        "print(\"Original array:\"+str(a))\n",
        "a=np.full_like(a,5)\n",
        "print(\"\\nAfter full_like:\"+str(a))"
      ],
      "execution_count": null,
      "outputs": [
        {
          "output_type": "stream",
          "text": [
            "Original array:[[ 1  2  3  4  5  6  7]\n",
            " [ 8  9 10 11 12 13 14]]\n",
            "\n",
            "After full_like:[[5 5 5 5 5 5 5]\n",
            " [5 5 5 5 5 5 5]]\n"
          ],
          "name": "stdout"
        }
      ]
    },
    {
      "cell_type": "markdown",
      "metadata": {
        "id": "R8n9Qf7C1WmO"
      },
      "source": [
        "Or you can just use the a.shape property with the full function"
      ]
    },
    {
      "cell_type": "code",
      "metadata": {
        "id": "aPAnUg_oYzHb",
        "colab": {
          "base_uri": "https://localhost:8080/"
        },
        "outputId": "701607fe-5a1b-4eda-e536-b0cf5ba6dc46"
      },
      "source": [
        "a=np.array([[1,2,3,4,5,6,7],[8,9,10,11,12,13,14]])\n",
        "print(\"Original array:\"+str(a))\n",
        "a=np.full(a.shape,5)\n",
        "print(\"\\nAfter full_like:\"+str(a))"
      ],
      "execution_count": null,
      "outputs": [
        {
          "output_type": "stream",
          "text": [
            "Original array:[[ 1  2  3  4  5  6  7]\n",
            " [ 8  9 10 11 12 13 14]]\n",
            "\n",
            "After full_like:[[5 5 5 5 5 5 5]\n",
            " [5 5 5 5 5 5 5]]\n"
          ],
          "name": "stdout"
        }
      ]
    },
    {
      "cell_type": "code",
      "metadata": {
        "id": "6nTQSf3dYzHm",
        "colab": {
          "base_uri": "https://localhost:8080/"
        },
        "outputId": "1eddf9ca-7060-41ff-ae49-e8acb41cdae8"
      },
      "source": [
        "np.identity(5)#needs only 1 param as identity matrux is a sq matrix i.e. height=width"
      ],
      "execution_count": null,
      "outputs": [
        {
          "output_type": "execute_result",
          "data": {
            "text/plain": [
              "array([[1., 0., 0., 0., 0.],\n",
              "       [0., 1., 0., 0., 0.],\n",
              "       [0., 0., 1., 0., 0.],\n",
              "       [0., 0., 0., 1., 0.],\n",
              "       [0., 0., 0., 0., 1.]])"
            ]
          },
          "metadata": {
            "tags": []
          },
          "execution_count": 51
        }
      ]
    },
    {
      "cell_type": "code",
      "metadata": {
        "id": "_yh4nF8hP3c6",
        "colab": {
          "base_uri": "https://localhost:8080/"
        },
        "outputId": "6f70af9a-1c25-461c-a4ca-d9d3b9864734"
      },
      "source": [
        "#Ex 4\n",
        "a=np.array([[1,2,3],[4,5,6],[7,8,9]])\n",
        "ans1=ans2=ans3=0\n",
        "#Create array of size (3,3) that has 6 in all elements using ones function and put it in ans1\n",
        "#ADD YOUR CODE HERE\n",
        "ans1=6*np.ones((3,3))\n",
        "#END CODE HERE\n",
        "#Create array of size (3,3) that has 6 in all elements using full function(use a) and put it in ans2\n",
        "#ADD YOUR CODE HERE\n",
        "ans2=np.full(a.shape,6)\n",
        "#END CODE HERE\n",
        "#Create array of size (3,3) that has 6 in all elements using full_like function(use a) and put it in ans3\n",
        "#ADD YOUR CODE HERE\n",
        "ans3=np.full_like(a,6)\n",
        "#END CODE HERE\n",
        "!pip install gdown\n",
        "!gdown https://drive.google.com/uc?id=1poiO99Ebtz0OHQd4qxKa7tNBj7aiPDRo\n",
        "import grader_numpy as g\n",
        "print(\"\\n\\n\")\n",
        "g.grader4(ans1,ans2,ans3)"
      ],
      "execution_count": null,
      "outputs": [
        {
          "output_type": "stream",
          "text": [
            "Requirement already satisfied: gdown in /usr/local/lib/python3.6/dist-packages (3.6.4)\n",
            "Requirement already satisfied: requests in /usr/local/lib/python3.6/dist-packages (from gdown) (2.23.0)\n",
            "Requirement already satisfied: tqdm in /usr/local/lib/python3.6/dist-packages (from gdown) (4.41.1)\n",
            "Requirement already satisfied: six in /usr/local/lib/python3.6/dist-packages (from gdown) (1.15.0)\n",
            "Requirement already satisfied: chardet<4,>=3.0.2 in /usr/local/lib/python3.6/dist-packages (from requests->gdown) (3.0.4)\n",
            "Requirement already satisfied: idna<3,>=2.5 in /usr/local/lib/python3.6/dist-packages (from requests->gdown) (2.10)\n",
            "Requirement already satisfied: certifi>=2017.4.17 in /usr/local/lib/python3.6/dist-packages (from requests->gdown) (2020.12.5)\n",
            "Requirement already satisfied: urllib3!=1.25.0,!=1.25.1,<1.26,>=1.21.1 in /usr/local/lib/python3.6/dist-packages (from requests->gdown) (1.24.3)\n",
            "Downloading...\n",
            "From: https://drive.google.com/uc?id=1poiO99Ebtz0OHQd4qxKa7tNBj7aiPDRo\n",
            "To: /content/grader_numpy.py\n",
            "100% 1.28k/1.28k [00:00<00:00, 4.23MB/s]\n",
            "\n",
            "\n",
            "\n",
            "Correct Answer!!! Put \"Got It\" in the chatbox.\n"
          ],
          "name": "stdout"
        }
      ]
    },
    {
      "cell_type": "markdown",
      "metadata": {
        "id": "ITC0EcM_YzHd"
      },
      "source": [
        "You will need to generate random nos. later on in machine learning as setting it all to 0 or 1 is not good enough. You can use the numpy.random.rand(generates samples from a uniform distribution (in the range [0,1)). and numpy.random.randn(generates samples from the normal distribution) function for that\n",
        "\n",
        "This is how they look like<br>\n",
        "<img src=\"https://drive.google.com/uc?id=1gwjeWNDoY8JUf8orFJLKvI59tbbehp65\">"
      ]
    },
    {
      "cell_type": "code",
      "metadata": {
        "id": "kdQPVzZiYzHd",
        "colab": {
          "base_uri": "https://localhost:8080/"
        },
        "outputId": "b3f4d7b9-61f9-456c-eb4e-5cd3e9207617"
      },
      "source": [
        "a=np.random.rand(2,3)\n",
        "print(a)"
      ],
      "execution_count": null,
      "outputs": [
        {
          "output_type": "stream",
          "text": [
            "[[0.58476471 0.27354231 0.16916282]\n",
            " [0.80696106 0.37216446 0.78933435]]\n"
          ],
          "name": "stdout"
        }
      ]
    },
    {
      "cell_type": "code",
      "metadata": {
        "id": "bb9_SAc7YzHf",
        "colab": {
          "base_uri": "https://localhost:8080/"
        },
        "outputId": "2e27ca58-1de8-49ca-e671-2326003346cd"
      },
      "source": [
        "a=np.random.randn(2,3)\n",
        "print(a)"
      ],
      "execution_count": null,
      "outputs": [
        {
          "output_type": "stream",
          "text": [
            "[[-0.29829221  0.82282248 -1.49279074]\n",
            " [-0.10769239  1.87248258 -1.04073843]]\n"
          ],
          "name": "stdout"
        }
      ]
    },
    {
      "cell_type": "markdown",
      "metadata": {
        "id": "ogSGuQcf1WmQ"
      },
      "source": [
        "Now the thing to remember is that in random functions you dont pass in tuples so if you want to use a tuple (like shaoe of a matrix) the you will have to either manually pass in the dimensions or use np.random.random_samples function"
      ]
    },
    {
      "cell_type": "code",
      "metadata": {
        "id": "CbVvOLPVYzHi",
        "colab": {
          "base_uri": "https://localhost:8080/"
        },
        "outputId": "d0396c30-1c7d-411b-9738-52434526bac0"
      },
      "source": [
        "a=np.array([[1,2,3,4,5,6,7],[8,9,10,11,12,13,14]])\n",
        "print(\"Shape of a = \"+str(a.shape))\n",
        "# b=np.random.randn(a.shape) #Won't work. will give error\n",
        "b=np.random.randn(a.shape[0],a.shape[1])\n",
        "print(\"\\nb(with randn)= \"+str(b))\n",
        "b=np.random.random_sample(a.shape)\n",
        "print(\"\\nb(with random_sample)= \"+str(b))"
      ],
      "execution_count": null,
      "outputs": [
        {
          "output_type": "stream",
          "text": [
            "Shape of a = (2, 7)\n",
            "\n",
            "b(with randn)= [[-1.09213346  0.19820868  0.57320879  0.17534209  1.27630733  0.90377207\n",
            "   0.93801088]\n",
            " [ 1.56127379 -0.12011742 -0.05063772 -1.62724165 -0.17364176  1.37838091\n",
            "  -0.75745793]]\n",
            "\n",
            "b(with random_sample)= [[0.39668936 0.88544857 0.56425683 0.91107652 0.95081507 0.15752098\n",
            "  0.15743561]\n",
            " [0.39166955 0.2137661  0.80960027 0.38949058 0.63017618 0.48388787\n",
            "  0.51141376]]\n"
          ],
          "name": "stdout"
        }
      ]
    },
    {
      "cell_type": "markdown",
      "metadata": {
        "id": "FYXgrWHu1WmQ"
      },
      "source": [
        "We can also get random integers with the np.random.randint function."
      ]
    },
    {
      "cell_type": "code",
      "metadata": {
        "id": "pAZOgmG2YzHk",
        "colab": {
          "base_uri": "https://localhost:8080/"
        },
        "outputId": "a6e093bd-f1c4-46e6-e29b-a6881af8797b"
      },
      "source": [
        "np.random.randint(1,10,size=(3,3)) #gives nos between 1 and 10(10 not inclusive) with array size of 3x3"
      ],
      "execution_count": null,
      "outputs": [
        {
          "output_type": "execute_result",
          "data": {
            "text/plain": [
              "array([[8, 8, 9],\n",
              "       [5, 8, 4],\n",
              "       [7, 3, 1]])"
            ]
          },
          "metadata": {
            "tags": []
          },
          "execution_count": 56
        }
      ]
    },
    {
      "cell_type": "markdown",
      "metadata": {
        "id": "45e7aTh81WmQ"
      },
      "source": [
        "You can also repeat the array across different axes.\r\n",
        "\r\n",
        "Here is for **axis=0**:\r\n",
        "\r\n",
        "<img src=\"https://drive.google.com/uc?id=10Kn1Grv9nHTtvsMTIiuRP_gqGHq6I66Q\" width=500></img>\r\n",
        "\r\n",
        "Here is for **axis=1**:\r\n",
        "\r\n",
        "<img src=\"https://drive.google.com/uc?id=1aAYIoO4m9YJTFBT8m4DVkSsV645epY1V\" width=500></img>"
      ]
    },
    {
      "cell_type": "code",
      "metadata": {
        "id": "8EY2LxUDYzHn",
        "colab": {
          "base_uri": "https://localhost:8080/"
        },
        "outputId": "de0001f7-60bd-44dc-a2bf-01f574a82b46"
      },
      "source": [
        "a=np.array([[1,2,3]])\n",
        "print(\"Repeat across X axes : \"+str(np.repeat(a,3,axis=0)))\n",
        "print(\"\\nRepeat across Y axes : \"+str(np.repeat(a,3,axis=1)))"
      ],
      "execution_count": null,
      "outputs": [
        {
          "output_type": "stream",
          "text": [
            "Repeat across X axes : [[1 2 3]\n",
            " [1 2 3]\n",
            " [1 2 3]]\n",
            "\n",
            "Repeat across Y axes : [[1 1 1 2 2 2 3 3 3]]\n"
          ],
          "name": "stdout"
        }
      ]
    },
    {
      "cell_type": "markdown",
      "metadata": {
        "id": "yn6vJgHVYzHp"
      },
      "source": [
        "## Copying Arrays Problem\n",
        "\n",
        "As you all know Python is built on C, so arrays are referenced by pointers. So when you want to assign something to another array you have to be careful or they'll point to the same array. Here is an example to show that:"
      ]
    },
    {
      "cell_type": "code",
      "metadata": {
        "id": "xRF9BYSUYzHp",
        "colab": {
          "base_uri": "https://localhost:8080/"
        },
        "outputId": "9bc45175-5d93-41a6-f1a7-9b6ac1897bf5"
      },
      "source": [
        "a=np.array([[1,2,3]])\n",
        "# b=a #copy a to b(uses pointers and so both point to same value)\n",
        "b=a.copy() #use copy function to make a copy of a and save to b\n",
        "b[0,0]=4\n",
        "print(\"b = \"+str(b))\n",
        "print(\"a = \"+str(a))"
      ],
      "execution_count": null,
      "outputs": [
        {
          "output_type": "stream",
          "text": [
            "b = [[4 2 3]]\n",
            "a = [[4 2 3]]\n"
          ],
          "name": "stdout"
        }
      ]
    },
    {
      "cell_type": "markdown",
      "metadata": {
        "id": "h_HNu7nLYzHr"
      },
      "source": [
        "## Mathematical functions in Numpy\n",
        "\n",
        "Let's first take a look at element-wise mathematics that you can do with numpy."
      ]
    },
    {
      "cell_type": "code",
      "metadata": {
        "id": "h-ZPqTJGYzHr",
        "colab": {
          "base_uri": "https://localhost:8080/"
        },
        "outputId": "a6f02b5b-04bb-45e7-a3d3-16b797cb8e42"
      },
      "source": [
        "#Elementwise\n",
        "a=np.array([[1,2,3,4]])\n",
        "a=a+[[2,2,2,2]]\n",
        "print(a)"
      ],
      "execution_count": null,
      "outputs": [
        {
          "output_type": "stream",
          "text": [
            "[[3 4 5 6]]\n"
          ],
          "name": "stdout"
        }
      ]
    },
    {
      "cell_type": "markdown",
      "metadata": {
        "id": "8eCbXBER1WmR"
      },
      "source": [
        "This time a was a 4 dim vector. Now think if a was a 100x100 dim matrix or worse a 1000x1000 dim vector. How would you add 2 to it? \n",
        "\n",
        "Yes, you can use the full function and do with that but don't you think that you have to check the shapes every time you want to do anything with matrices. This lowers its simplicity adn Python is all about simplicity. So here is where Broadcasting comes into play.\n",
        "\n",
        "If you use element wise operations to 2 matrices with different shapes ut they have same shape in at least 1 axis, Python repeats the,atrix along the other axis and makes them equal shape and then does the operation.\n",
        "\n",
        "ex: if a=[[1,2,3,4]] and you add 2 to it. [[1,2,3,4]] has shape (1,4) and 2 as shape (1,1) as the x axes shape is the same, plython replicates it along the y axis and makes 2 to [[2,2,2,2]] and adds resulting in the same output"
      ]
    },
    {
      "cell_type": "code",
      "metadata": {
        "id": "FdQTTzciYzHv",
        "colab": {
          "base_uri": "https://localhost:8080/"
        },
        "outputId": "c16afdb5-d2a4-4d53-f0ea-37339fe70c14"
      },
      "source": [
        "a=np.array([[1,2,3,4]])\n",
        "a=a+2\n",
        "print(a)"
      ],
      "execution_count": null,
      "outputs": [
        {
          "output_type": "stream",
          "text": [
            "[[3 4 5 6]]\n"
          ],
          "name": "stdout"
        }
      ]
    },
    {
      "cell_type": "markdown",
      "metadata": {
        "id": "o8B1rlLn1WmS"
      },
      "source": [
        "The same is applicable for all other element wise operations like -,*,/,exponential(2 asteriks), etc."
      ]
    },
    {
      "cell_type": "code",
      "metadata": {
        "id": "T0_pLNs7YzHx",
        "colab": {
          "base_uri": "https://localhost:8080/"
        },
        "outputId": "9e055123-f58e-4d4e-e266-02f8e31cfa30"
      },
      "source": [
        "a=np.array([[1,2,3,4]])\n",
        "a-=2\n",
        "print(a)"
      ],
      "execution_count": null,
      "outputs": [
        {
          "output_type": "stream",
          "text": [
            "[[-1  0  1  2]]\n"
          ],
          "name": "stdout"
        }
      ]
    },
    {
      "cell_type": "code",
      "metadata": {
        "id": "y8ke1AgBYzHz",
        "colab": {
          "base_uri": "https://localhost:8080/"
        },
        "outputId": "513451ce-4330-48e1-9d9c-07266a12d74b"
      },
      "source": [
        "a=np.array([[1,2,3,4]])\n",
        "a*=2\n",
        "print(a)"
      ],
      "execution_count": null,
      "outputs": [
        {
          "output_type": "stream",
          "text": [
            "[[2 4 6 8]]\n"
          ],
          "name": "stdout"
        }
      ]
    },
    {
      "cell_type": "markdown",
      "metadata": {
        "id": "6m95weBR1WmS"
      },
      "source": [
        "Now let's take a look at trignometrical functions"
      ]
    },
    {
      "cell_type": "code",
      "metadata": {
        "id": "AWb3qeSCYzH0"
      },
      "source": [
        "a=np.array([[1,2,3,4]])\n",
        "print(\"Sin of a = \"+str(np.sin(a))+\"\\nCos of a = \"+str(np.cos(a)))"
      ],
      "execution_count": null,
      "outputs": []
    },
    {
      "cell_type": "markdown",
      "metadata": {
        "id": "S3Y19salYzH3"
      },
      "source": [
        "#### Matrix Multiplication"
      ]
    },
    {
      "cell_type": "code",
      "metadata": {
        "id": "eKgSxgTuYzH3",
        "colab": {
          "base_uri": "https://localhost:8080/"
        },
        "outputId": "b65ab96a-d64d-418f-8e49-235cf99ce329"
      },
      "source": [
        "a=np.ones((3,2))\n",
        "b=np.full((2,3),2)\n",
        "print(\"a=\"+str(a)+\"\\n\\nb=\"+str(b))\n",
        "print(\"\\na.b=\"+str(np.matmul(a,b)))"
      ],
      "execution_count": null,
      "outputs": [
        {
          "output_type": "stream",
          "text": [
            "a=[[1. 1.]\n",
            " [1. 1.]\n",
            " [1. 1.]]\n",
            "\n",
            "b=[[2 2 2]\n",
            " [2 2 2]]\n",
            "\n",
            "a.b=[[4. 4. 4.]\n",
            " [4. 4. 4.]\n",
            " [4. 4. 4.]]\n"
          ],
          "name": "stdout"
        }
      ]
    },
    {
      "cell_type": "markdown",
      "metadata": {
        "id": "Twjri9Tj1WmT"
      },
      "source": [
        "To find the determinant of a matrix, use np.linalg.det() function"
      ]
    },
    {
      "cell_type": "code",
      "metadata": {
        "id": "94EBmh7hYzH5",
        "colab": {
          "base_uri": "https://localhost:8080/"
        },
        "outputId": "603f09be-9e3d-45d1-832e-f48b564fc9fd"
      },
      "source": [
        "c=np.identity(10)\n",
        "np.linalg.det(c)# det of any identity mat is 1"
      ],
      "execution_count": null,
      "outputs": [
        {
          "output_type": "execute_result",
          "data": {
            "text/plain": [
              "1.0"
            ]
          },
          "metadata": {
            "tags": []
          },
          "execution_count": 66
        }
      ]
    },
    {
      "cell_type": "code",
      "metadata": {
        "id": "994ZdBoRRIPn",
        "colab": {
          "base_uri": "https://localhost:8080/"
        },
        "outputId": "bd787c2a-062c-42cf-f3ae-e554bce951b9"
      },
      "source": [
        "# Ex 5\n",
        "#Create an array a [[1,2,3],[4,5,6],[7,8,9]] and calculate it's determiant and put it in ans1\n",
        "ans1=-1\n",
        "#ADD YOUR CODE HERE\n",
        "a=np.array([[1,2,3],[4,5,6],[7,8,9]])\n",
        "ans1=np.linalg.det(a)\n",
        "print(ans1)\n",
        "#END CODE HERE\n",
        "!pip install gdown\n",
        "!gdown https://drive.google.com/uc?id=1poiO99Ebtz0OHQd4qxKa7tNBj7aiPDRo\n",
        "import grader_numpy as g\n",
        "print(\"\\n\\n\")\n",
        "g.grader5(ans1)"
      ],
      "execution_count": null,
      "outputs": [
        {
          "output_type": "stream",
          "text": [
            "0.0\n",
            "Requirement already satisfied: gdown in /usr/local/lib/python3.6/dist-packages (3.6.4)\n",
            "Requirement already satisfied: requests in /usr/local/lib/python3.6/dist-packages (from gdown) (2.23.0)\n",
            "Requirement already satisfied: six in /usr/local/lib/python3.6/dist-packages (from gdown) (1.15.0)\n",
            "Requirement already satisfied: tqdm in /usr/local/lib/python3.6/dist-packages (from gdown) (4.41.1)\n",
            "Requirement already satisfied: idna<3,>=2.5 in /usr/local/lib/python3.6/dist-packages (from requests->gdown) (2.10)\n",
            "Requirement already satisfied: chardet<4,>=3.0.2 in /usr/local/lib/python3.6/dist-packages (from requests->gdown) (3.0.4)\n",
            "Requirement already satisfied: certifi>=2017.4.17 in /usr/local/lib/python3.6/dist-packages (from requests->gdown) (2020.12.5)\n",
            "Requirement already satisfied: urllib3!=1.25.0,!=1.25.1,<1.26,>=1.21.1 in /usr/local/lib/python3.6/dist-packages (from requests->gdown) (1.24.3)\n",
            "Downloading...\n",
            "From: https://drive.google.com/uc?id=1poiO99Ebtz0OHQd4qxKa7tNBj7aiPDRo\n",
            "To: /content/grader_numpy.py\n",
            "100% 1.28k/1.28k [00:00<00:00, 1.76MB/s]\n",
            "\n",
            "\n",
            "\n",
            "Correct Answer!!! Put \"Got It\" in the chatbox.\n"
          ],
          "name": "stdout"
        }
      ]
    },
    {
      "cell_type": "code",
      "metadata": {
        "id": "kAtT3bPeYzH8",
        "colab": {
          "base_uri": "https://localhost:8080/"
        },
        "outputId": "430abd7f-7a09-4f63-eed7-b9690162701f"
      },
      "source": [
        "a=np.array([[1,2,3]])\n",
        "a.T"
      ],
      "execution_count": null,
      "outputs": [
        {
          "output_type": "execute_result",
          "data": {
            "text/plain": [
              "array([[1],\n",
              "       [2],\n",
              "       [3]])"
            ]
          },
          "metadata": {
            "tags": []
          },
          "execution_count": 69
        }
      ]
    },
    {
      "cell_type": "markdown",
      "metadata": {
        "id": "vPn6s7o4YzH-"
      },
      "source": [
        "## Statistics with Numpy\n",
        "\n",
        "- Min\n",
        "- Max\n",
        "- Avg\n"
      ]
    },
    {
      "cell_type": "code",
      "metadata": {
        "id": "tHsg1LQ1YzH-",
        "colab": {
          "base_uri": "https://localhost:8080/"
        },
        "outputId": "8460627e-0361-4159-d6f4-f4d085831f36"
      },
      "source": [
        "data=np.array([[1,2],[3,4],[5,6]])\n",
        "print(data)"
      ],
      "execution_count": null,
      "outputs": [
        {
          "output_type": "stream",
          "text": [
            "[[1 2]\n",
            " [3 4]\n",
            " [5 6]]\n"
          ],
          "name": "stdout"
        }
      ]
    },
    {
      "cell_type": "code",
      "metadata": {
        "id": "MhkHLMfNYzH_",
        "colab": {
          "base_uri": "https://localhost:8080/"
        },
        "outputId": "ef47749e-13d4-4455-fbde-75cbeff538d6"
      },
      "source": [
        "np.min(data)"
      ],
      "execution_count": null,
      "outputs": [
        {
          "output_type": "execute_result",
          "data": {
            "text/plain": [
              "1"
            ]
          },
          "metadata": {
            "tags": []
          },
          "execution_count": 71
        }
      ]
    },
    {
      "cell_type": "code",
      "metadata": {
        "id": "vzNHQb9pYzIB",
        "colab": {
          "base_uri": "https://localhost:8080/"
        },
        "outputId": "6d0c273e-900e-486a-b73b-87eeba141acf"
      },
      "source": [
        "np.max(data)"
      ],
      "execution_count": null,
      "outputs": [
        {
          "output_type": "execute_result",
          "data": {
            "text/plain": [
              "6"
            ]
          },
          "metadata": {
            "tags": []
          },
          "execution_count": 72
        }
      ]
    },
    {
      "cell_type": "code",
      "metadata": {
        "id": "LV6tZCo5YzID",
        "colab": {
          "base_uri": "https://localhost:8080/"
        },
        "outputId": "48dd81b0-370a-4794-e65b-a0d5033f3eff"
      },
      "source": [
        "np.min(data,axis=0)"
      ],
      "execution_count": null,
      "outputs": [
        {
          "output_type": "execute_result",
          "data": {
            "text/plain": [
              "array([1, 2])"
            ]
          },
          "metadata": {
            "tags": []
          },
          "execution_count": 73
        }
      ]
    },
    {
      "cell_type": "code",
      "metadata": {
        "id": "QBMCE10jYzIF",
        "colab": {
          "base_uri": "https://localhost:8080/"
        },
        "outputId": "027172f9-ee83-49c8-ab58-3f81b7ff6b67"
      },
      "source": [
        "np.min(data,axis=1)"
      ],
      "execution_count": null,
      "outputs": [
        {
          "output_type": "execute_result",
          "data": {
            "text/plain": [
              "array([1, 3, 5])"
            ]
          },
          "metadata": {
            "tags": []
          },
          "execution_count": 74
        }
      ]
    },
    {
      "cell_type": "code",
      "metadata": {
        "id": "zAAf0AzzYzIG",
        "colab": {
          "base_uri": "https://localhost:8080/"
        },
        "outputId": "b965d73f-2098-446b-882d-fa37e5bce88d"
      },
      "source": [
        "print(\"Sum : \"+str(np.sum(data))+\"\\nSum(along axis 0) : \"+str(np.sum(data,axis=0))+\"\\nSum(along axis 1) : \"+str(np.sum(data,axis=1)))"
      ],
      "execution_count": null,
      "outputs": [
        {
          "output_type": "stream",
          "text": [
            "Sum : 21\n",
            "Sum(along axis 0) : [ 9 12]\n",
            "Sum(along axis 1) : [ 3  7 11]\n"
          ],
          "name": "stdout"
        }
      ]
    },
    {
      "cell_type": "markdown",
      "metadata": {
        "id": "fmoRlB5JYzIH"
      },
      "source": [
        "## Reorganizing Arrays\n",
        "\n",
        "1.Reshape: You can use reshape top reshape an array as long as the multiplication of all dimensions in that array are equal to the size of that array\n"
      ]
    },
    {
      "cell_type": "code",
      "metadata": {
        "id": "Qhk8CUqrYzII",
        "colab": {
          "base_uri": "https://localhost:8080/"
        },
        "outputId": "495b4008-1aef-4869-c358-bfdfd144e0e2"
      },
      "source": [
        "a=np.array([[1,2],[3,4],[5,6],[7,8]])\n",
        "print(a.shape)\n",
        "a=a.reshape((8,1))\n",
        "print(\"\\n a(after reshape) = \"+str(a))\n",
        "a=a.reshape((1,8))\n",
        "print(\"\\n a(after reshape) = \"+str(a))\n",
        "\n",
        "# a=a.reshape((4,4)) #can't do this as 4*4!=4*2\n",
        "# print(\"\\n a(after reshape) = \"+str(a))"
      ],
      "execution_count": null,
      "outputs": [
        {
          "output_type": "stream",
          "text": [
            "(4, 2)\n",
            "\n",
            " a(after reshape) = [[1]\n",
            " [2]\n",
            " [3]\n",
            " [4]\n",
            " [5]\n",
            " [6]\n",
            " [7]\n",
            " [8]]\n",
            "\n",
            " a(after reshape) = [[1 2 3 4 5 6 7 8]]\n"
          ],
          "name": "stdout"
        }
      ]
    },
    {
      "cell_type": "markdown",
      "metadata": {
        "id": "bAMbscYs1WmU"
      },
      "source": [
        "We can also reshape it into 3 dimensions as long as it has the same value as size when all dims are multiplied together"
      ]
    },
    {
      "cell_type": "code",
      "metadata": {
        "id": "s_4x8HiMYzIJ",
        "colab": {
          "base_uri": "https://localhost:8080/"
        },
        "outputId": "b32ae20a-ad71-4f8a-8784-bde6c9906310"
      },
      "source": [
        "assert 2*2*2==a.size\n",
        "#Ex 6\n",
        "#Try to predict the (2,2,2) reshaped array without coding and answer in chat.Then try it by coding and save it in ans1\n",
        "#ADD YOUR CODE HERE\n",
        "ans1=a.reshape((2,2,2))\n",
        "print(ans1)\n",
        "#END CODE HERE\n",
        "!pip install gdown\n",
        "!gdown https://drive.google.com/uc?id=1poiO99Ebtz0OHQd4qxKa7tNBj7aiPDRo\n",
        "import grader_numpy as g\n",
        "print(\"\\n\\n\")\n",
        "g.grader6(ans1)"
      ],
      "execution_count": null,
      "outputs": [
        {
          "output_type": "stream",
          "text": [
            "[[[1 2]\n",
            "  [3 4]]\n",
            "\n",
            " [[5 6]\n",
            "  [7 8]]]\n",
            "Requirement already satisfied: gdown in /usr/local/lib/python3.6/dist-packages (3.6.4)\n",
            "Requirement already satisfied: requests in /usr/local/lib/python3.6/dist-packages (from gdown) (2.23.0)\n",
            "Requirement already satisfied: tqdm in /usr/local/lib/python3.6/dist-packages (from gdown) (4.41.1)\n",
            "Requirement already satisfied: six in /usr/local/lib/python3.6/dist-packages (from gdown) (1.15.0)\n",
            "Requirement already satisfied: chardet<4,>=3.0.2 in /usr/local/lib/python3.6/dist-packages (from requests->gdown) (3.0.4)\n",
            "Requirement already satisfied: idna<3,>=2.5 in /usr/local/lib/python3.6/dist-packages (from requests->gdown) (2.10)\n",
            "Requirement already satisfied: certifi>=2017.4.17 in /usr/local/lib/python3.6/dist-packages (from requests->gdown) (2020.12.5)\n",
            "Requirement already satisfied: urllib3!=1.25.0,!=1.25.1,<1.26,>=1.21.1 in /usr/local/lib/python3.6/dist-packages (from requests->gdown) (1.24.3)\n",
            "Downloading...\n",
            "From: https://drive.google.com/uc?id=1poiO99Ebtz0OHQd4qxKa7tNBj7aiPDRo\n",
            "To: /content/grader_numpy.py\n",
            "100% 1.28k/1.28k [00:00<00:00, 1.95MB/s]\n",
            "\n",
            "\n",
            "\n",
            "Correct Answer!!! Put \"Got It\" in the chatbox.\n"
          ],
          "name": "stdout"
        }
      ]
    },
    {
      "cell_type": "markdown",
      "metadata": {
        "id": "a5g10kZC1WmV"
      },
      "source": [
        "2.vstack:To vertically any nos. of matrices then you can use the np.vstack(). It takes a list of arrays and stacks them up vertically"
      ]
    },
    {
      "cell_type": "code",
      "metadata": {
        "id": "VnNhj3cqYzIL",
        "colab": {
          "base_uri": "https://localhost:8080/"
        },
        "outputId": "b0ae987a-5bf6-4705-8009-a4771e235aa2"
      },
      "source": [
        "a=[1,2,3,4]\n",
        "b=[5,6,7,8]\n",
        "np.vstack([a,b,a,b])"
      ],
      "execution_count": null,
      "outputs": [
        {
          "output_type": "execute_result",
          "data": {
            "text/plain": [
              "array([[1, 2, 3, 4],\n",
              "       [5, 6, 7, 8],\n",
              "       [1, 2, 3, 4],\n",
              "       [5, 6, 7, 8]])"
            ]
          },
          "metadata": {
            "tags": []
          },
          "execution_count": 78
        }
      ]
    },
    {
      "cell_type": "markdown",
      "metadata": {
        "id": "kRKGDSr31WmV"
      },
      "source": [
        "3.hstack: Same as vstack but stacks them horizontally"
      ]
    },
    {
      "cell_type": "code",
      "metadata": {
        "id": "eWOk_bqWYzIN",
        "colab": {
          "base_uri": "https://localhost:8080/"
        },
        "outputId": "004ac07f-6a30-41e8-89b7-21f4c85d712f"
      },
      "source": [
        "np.hstack([a,b,a,b])"
      ],
      "execution_count": null,
      "outputs": [
        {
          "output_type": "execute_result",
          "data": {
            "text/plain": [
              "array([1, 2, 3, 4, 5, 6, 7, 8, 1, 2, 3, 4, 5, 6, 7, 8])"
            ]
          },
          "metadata": {
            "tags": []
          },
          "execution_count": 79
        }
      ]
    },
    {
      "cell_type": "markdown",
      "metadata": {
        "id": "YhTqgtC7YzIg"
      },
      "source": [
        "## Vectorization\n",
        "\n",
        "Vectorization is used to speed up the Python code without using loop. Using such a function can help in minimizing the running time of code efficiently. Various operations are being performed over vector such as dot product of vectors which is also known as scalar product as it produces single output, outer products which results in square matrix of dimension equal to length X length of the vectors, Element wise multiplication which products the element of same indexes and dimension of the matrix remain unchanged."
      ]
    },
    {
      "cell_type": "code",
      "metadata": {
        "id": "R0aKQghcYzIg",
        "colab": {
          "base_uri": "https://localhost:8080/"
        },
        "outputId": "4fed17a7-7770-447d-8c59-f725d2a67ffd"
      },
      "source": [
        "import time\n",
        "n=1000000\n",
        "a=np.random.randn(n)\n",
        "b=np.random.randn(n)\n",
        "\n",
        "tic=time.time()\n",
        "c1=0\n",
        "for i in range(n):\n",
        "    c1+=a[i]*b[i]\n",
        "toc=time.time()\n",
        "print(\"Time taken using basic for loops : \"+str(1000*(toc-tic))+\"ms\")\n",
        "\n",
        "tic=time.time()\n",
        "c2=np.dot(a,b)\n",
        "toc=time.time()\n",
        "print(\"Time taken using Vectorized version : \"+str(1000*(toc-tic))+\"ms\")\n",
        "\n",
        "assert int(c1)==int(c2)"
      ],
      "execution_count": null,
      "outputs": [
        {
          "output_type": "stream",
          "text": [
            "Time taken using basic for loops : 811.3768100738525ms\n",
            "Time taken using Vectorized version : 1.0876655578613281ms\n"
          ],
          "name": "stdout"
        }
      ]
    },
    {
      "cell_type": "markdown",
      "metadata": {
        "id": "ZrY_tI0l1WmW"
      },
      "source": [
        "Vectorization is just using in built functions in numpy instead of for loops. You should avoid for loops wherever you can, except if necessary. As for loops take up time and are less efficient then vectorized versions. \n",
        "\n",
        "The difference in the finctions is that they directly do operations on the lists instead element by element. That is the magic of Python and why we should embrace it and use it in out projects"
      ]
    },
    {
      "cell_type": "markdown",
      "metadata": {
        "id": "qpmtAuMsSI-T"
      },
      "source": [
        "**Go over to <a href=\"https://zzi.sh\">zzi.sh</a> and write the code that I give you**"
      ]
    }
  ]
}